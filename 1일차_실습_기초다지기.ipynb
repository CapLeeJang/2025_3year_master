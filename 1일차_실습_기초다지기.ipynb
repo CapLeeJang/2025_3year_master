{
  "nbformat": 4,
  "nbformat_minor": 0,
  "metadata": {
    "colab": {
      "provenance": [],
      "authorship_tag": "ABX9TyPIZ666+/8+T7lNv8w4WVs5",
      "include_colab_link": true
    },
    "kernelspec": {
      "name": "python3",
      "display_name": "Python 3"
    },
    "language_info": {
      "name": "python"
    }
  },
  "cells": [
    {
      "cell_type": "markdown",
      "metadata": {
        "id": "view-in-github",
        "colab_type": "text"
      },
      "source": [
        "<a href=\"https://colab.research.google.com/github/CapLeeJang/2025_3year_master/blob/main/1%EC%9D%BC%EC%B0%A8_%EC%8B%A4%EC%8A%B5_%EA%B8%B0%EC%B4%88%EB%8B%A4%EC%A7%80%EA%B8%B0.ipynb\" target=\"_parent\"><img src=\"https://colab.research.google.com/assets/colab-badge.svg\" alt=\"Open In Colab\"/></a>"
      ]
    },
    {
      "cell_type": "code",
      "execution_count": null,
      "metadata": {
        "id": "ibqS5NXdEljM"
      },
      "outputs": [],
      "source": []
    },
    {
      "cell_type": "markdown",
      "source": [],
      "metadata": {
        "id": "9KVZ9GixFELl"
      }
    },
    {
      "cell_type": "markdown",
      "source": [
        "# 1일차 파이썬 기초다지기"
      ],
      "metadata": {
        "id": "WIer0uAgFHYD"
      }
    },
    {
      "cell_type": "markdown",
      "source": [
        "## 1. Github 연결방법"
      ],
      "metadata": {
        "id": "RWNl-HeVFcND"
      }
    },
    {
      "cell_type": "markdown",
      "source": [
        "##2.기초문법 확인"
      ],
      "metadata": {
        "id": "YnQh4JzaFj2r"
      }
    },
    {
      "cell_type": "markdown",
      "source": [],
      "metadata": {
        "id": "kWNM8mMsGDTD"
      }
    },
    {
      "cell_type": "code",
      "source": [
        "import sys\n",
        "print(sys.version)"
      ],
      "metadata": {
        "colab": {
          "base_uri": "https://localhost:8080/"
        },
        "id": "WItkXNwdpKrf",
        "outputId": "f9f957c8-15b5-4d6f-e7e2-2c14568f6b18"
      },
      "execution_count": 5,
      "outputs": [
        {
          "output_type": "stream",
          "name": "stdout",
          "text": [
            "3.11.13 (main, Jun  4 2025, 08:57:29) [GCC 11.4.0]\n"
          ]
        }
      ]
    },
    {
      "cell_type": "code",
      "source": [
        "#파이썬 실행파일 위치\n",
        "print(sys.executable)"
      ],
      "metadata": {
        "colab": {
          "base_uri": "https://localhost:8080/"
        },
        "id": "nA2CN7PBpW1j",
        "outputId": "fb2e7494-9334-4b1a-aa51-db9ae4386dee"
      },
      "execution_count": 7,
      "outputs": [
        {
          "output_type": "stream",
          "name": "stdout",
          "text": [
            "/usr/bin/python3\n"
          ]
        }
      ]
    },
    {
      "cell_type": "markdown",
      "source": [
        "##3.AI가 만들어준 파이썬 기초문법 예제\n",
        "-프롬프트 :\n",
        "-링크:"
      ],
      "metadata": {
        "id": "AI6UiGktwJjO"
      }
    },
    {
      "cell_type": "code",
      "source": [
        "print(\"=== 1. 변수와 데이터 타입 ===\")\n",
        "\n",
        "# 다양한 데이터 타입의 변수 선언\n",
        "name = \"김철수\"           # 문자열 (string)\n",
        "age = 25                # 정수 (integer)\n",
        "height = 175.5          # 실수 (float)\n",
        "is_student = True       # 불리언 (boolean)\n",
        "\n",
        "print(f\"이름: {name}, 나이: {age}, 키: {height}cm, 학생여부: {is_student}\")\n",
        "print(f\"name의 타입: {type(name)}\")\n",
        "print()"
      ],
      "metadata": {
        "colab": {
          "base_uri": "https://localhost:8080/"
        },
        "id": "WsIBlPHbwWxf",
        "outputId": "2af06b46-fb4f-4881-e49f-25b515173700"
      },
      "execution_count": 10,
      "outputs": [
        {
          "output_type": "stream",
          "name": "stdout",
          "text": [
            "=== 1. 변수와 데이터 타입 ===\n",
            "이름: 김철수, 나이: 25, 키: 175.5cm, 학생여부: True\n",
            "name의 타입: <class 'str'>\n",
            "\n"
          ]
        }
      ]
    },
    {
      "cell_type": "code",
      "source": [
        "print(\"=== 2. 문자열 다루기 ===\")\n",
        "\n",
        "message = \"  안녕하세요, 파이썬!, Python!  \"\n",
        "print(f\"원본: '{message}'\")\n",
        "print(f\"공백제거: '{message.strip()}'\")\n",
        "print(f\"대문자: '{message.upper()}'\")\n",
        "print(f\"소문자: '{message.lower()}'\")\n",
        "print(f\"길이: {len(message.strip())}\")\n",
        "print(f\"'파이썬' 포함여부: {'파이썬' in message}\")\n",
        "print(message.upper() + message.lower())\n",
        "print('반짝 '*5)\n",
        "print()"
      ],
      "metadata": {
        "colab": {
          "base_uri": "https://localhost:8080/"
        },
        "id": "ftuQM-BGxAR8",
        "outputId": "fce9d951-b54b-475b-a439-40889823d6d8"
      },
      "execution_count": 16,
      "outputs": [
        {
          "output_type": "stream",
          "name": "stdout",
          "text": [
            "=== 2. 문자열 다루기 ===\n",
            "원본: '  안녕하세요, 파이썬!, Python!  '\n",
            "공백제거: '안녕하세요, 파이썬!, Python!'\n",
            "대문자: '  안녕하세요, 파이썬!, PYTHON!  '\n",
            "소문자: '  안녕하세요, 파이썬!, python!  '\n",
            "길이: 20\n",
            "'파이썬' 포함여부: True\n",
            "  안녕하세요, 파이썬!, PYTHON!    안녕하세요, 파이썬!, python!  \n",
            "반짝 반짝 반짝 반짝 반짝 \n",
            "\n"
          ]
        }
      ]
    },
    {
      "cell_type": "code",
      "source": [
        "print(\"=== 3. 리스트 사용법 ===\")\n",
        "\n",
        "# 쇼핑 목록 만들기\n",
        "shopping_list = [\"사과\", \"바나나\", \"우유\", \"빵\"]\n",
        "print(f\"쇼핑 목록: {shopping_list}\")\n",
        "\n",
        "# 리스트 조작\n",
        "shopping_list.append(\"계란\")        # 추가\n",
        "print(f\"계란 추가 후: {shopping_list}\")\n",
        "\n",
        "shopping_list.remove(\"바나나\")      # 제거\n",
        "print(f\"바나나 제거 후: {shopping_list}\")\n",
        "\n",
        "print(f\"첫 번째 아이템: {shopping_list[0]}\")\n",
        "print(f\"마지막 아이템: {shopping_list[-1]}\")\n",
        "print(f\"아이템 개수: {len(shopping_list)}\")\n",
        "print()"
      ],
      "metadata": {
        "colab": {
          "base_uri": "https://localhost:8080/"
        },
        "id": "VFxRUpP3xFxy",
        "outputId": "f2d67f87-372a-453e-97d0-c1d4c229cb0a"
      },
      "execution_count": 17,
      "outputs": [
        {
          "output_type": "stream",
          "name": "stdout",
          "text": [
            "=== 3. 리스트 사용법 ===\n",
            "쇼핑 목록: ['사과', '바나나', '우유', '빵']\n",
            "계란 추가 후: ['사과', '바나나', '우유', '빵', '계란']\n",
            "바나나 제거 후: ['사과', '우유', '빵', '계란']\n",
            "첫 번째 아이템: 사과\n",
            "마지막 아이템: 계란\n",
            "아이템 개수: 4\n",
            "\n"
          ]
        }
      ]
    },
    {
      "cell_type": "code",
      "source": [
        "print(\"=== 4. 딕셔너리 사용법 ===\")\n",
        "\n",
        "# 학생 정보 저장\n",
        "student = {\n",
        "    \"이름\": \"이영희\",\n",
        "    \"나이\": 22,\n",
        "    \"전공\": \"경영학\",\n",
        "    \"학점\": 3.8\n",
        "}\n",
        "\n",
        "print(f\"학생 정보: {student}\")\n",
        "print(f\"이름: {student['이름']}\")\n",
        "print(f\"학점: {student.get('학점', '정보없음')}\")\n",
        "\n",
        "# 새로운 정보 추가\n",
        "student[\"학년\"] = 3\n",
        "print(f\"학년 추가 후: {student}\")\n",
        "print()\n"
      ],
      "metadata": {
        "colab": {
          "base_uri": "https://localhost:8080/"
        },
        "id": "9A260p6z3-gu",
        "outputId": "bd587afd-d811-47b0-9132-88c3d68cd9bc"
      },
      "execution_count": 18,
      "outputs": [
        {
          "output_type": "stream",
          "name": "stdout",
          "text": [
            "=== 4. 딕셔너리 사용법 ===\n",
            "학생 정보: {'이름': '이영희', '나이': 22, '전공': '경영학', '학점': 3.8}\n",
            "이름: 이영희\n",
            "학점: 3.8\n",
            "학년 추가 후: {'이름': '이영희', '나이': 22, '전공': '경영학', '학점': 3.8, '학년': 3}\n",
            "\n",
            "=== 5. 조건문 ===\n",
            "점수 85점의 학점: B\n"
          ]
        }
      ]
    },
    {
      "cell_type": "code",
      "source": [
        "\n",
        "# ============================================\n",
        "# 5. 조건문 (if문)\n",
        "# ============================================\n",
        "print(\"=== 5. 조건문 ===\")\n",
        "\n",
        "score = 85\n",
        "\n",
        "if score >= 90:\n",
        "    grade = \"A\"\n",
        "elif score >= 80:\n",
        "    grade = \"B\"\n",
        "elif score >= 70:\n",
        "    grade = \"C\"\n",
        "else:\n",
        "    grade = \"F\"\n",
        "\n",
        "print(f\"점수 {score}점의 학점: {grade}\")\n",
        "\n",
        " #간단한 조건 확인\n",
        "weather = \"비\"\n",
        "if weather == \"비\":\n",
        "    print(\"우산을 챙기세요!\")\n",
        "else:\n",
        "    print(\"좋은 날씨네요!\")\n",
        "print()"
      ],
      "metadata": {
        "colab": {
          "base_uri": "https://localhost:8080/"
        },
        "id": "XGKPAKDZ4yKF",
        "outputId": "2925ae5b-d099-4f4d-d823-5ddf25d2fa60"
      },
      "execution_count": 20,
      "outputs": [
        {
          "output_type": "stream",
          "name": "stdout",
          "text": [
            "=== 5. 조건문 ===\n",
            "점수 85점의 학점: B\n",
            "우산을 챙기세요!\n",
            "\n"
          ]
        }
      ]
    },
    {
      "cell_type": "code",
      "source": [
        "print(\"=== 6. for문 반복 ===\")\n",
        "\n",
        "# 숫자 반복\n",
        "print(\"1부터 5까지:\")\n",
        "for i in range(1, 6):\n",
        "    print(f\"  {i}번째\")\n",
        "\n",
        "for i in range(1, 6):\n",
        "    print(i,end=',')\n",
        "print()\n",
        "\n",
        "# 리스트 반복\n",
        "fruits = [\"사과\", \"배\", \"포도\", \"오렌지\"]\n",
        "print(\"과일 목록:\")\n",
        "for fruit in fruits:\n",
        "    print(f\"  - {fruit}\")\n",
        "\n",
        "\n",
        "# 딕셔너리 반복\n",
        "person = {\"이름\": \"박민수\", \"나이\": 30, \"직업\": \"개발자\"}\n",
        "print(\"개인정보:\")\n",
        "for key, value in person.items():\n",
        "    print(f\"  {key}: {value}\")\n",
        "print()\n"
      ],
      "metadata": {
        "colab": {
          "base_uri": "https://localhost:8080/"
        },
        "id": "aW00e3OJ5N7u",
        "outputId": "4447c70e-5619-455b-d9f7-218642117a7c"
      },
      "execution_count": 26,
      "outputs": [
        {
          "output_type": "stream",
          "name": "stdout",
          "text": [
            "=== 6. for문 반복 ===\n",
            "1부터 5까지:\n",
            "  1번째\n",
            "  2번째\n",
            "  3번째\n",
            "  4번째\n",
            "  5번째\n",
            "1,2,3,4,5,\n",
            "과일 목록:\n",
            "  - 사과\n",
            "  - 배\n",
            "  - 포도\n",
            "  - 오렌지\n",
            "개인정보:\n",
            "  이름: 박민수\n",
            "  나이: 30\n",
            "  직업: 개발자\n",
            "\n"
          ]
        }
      ]
    },
    {
      "cell_type": "code",
      "source": [
        "print(\"=== 7. while문 반복 ===\")\n",
        "# 반복회수가 정해져 있지 않을 때 유용(조건이 참일 동안 등등)\n",
        "# 카운트다운\n",
        "\n",
        "count = 5\n",
        "print(\"카운트다운 시작:\")\n",
        "while count > 0:\n",
        "    print(f\"  {count}...\")\n",
        "    count -= 1\n",
        "print(\"  발사!\")\n",
        "print()\n",
        "\n",
        "count=5\n",
        "while True:\n",
        "    if count == 0:\n",
        "        break\n",
        "    print(f'  {count}...')\n",
        "    count-=1\n",
        "\n",
        "print(\"  shot!!\")\n",
        "print()"
      ],
      "metadata": {
        "colab": {
          "base_uri": "https://localhost:8080/"
        },
        "id": "wnWUW34b7BNV",
        "outputId": "1b951d26-585b-46d6-d1df-f526d0ed4bd8"
      },
      "execution_count": 31,
      "outputs": [
        {
          "output_type": "stream",
          "name": "stdout",
          "text": [
            "=== 7. while문 반복 ===\n",
            "카운트다운 시작:\n",
            "  5...\n",
            "  4...\n",
            "  3...\n",
            "  2...\n",
            "  1...\n",
            "  발사!\n",
            "\n",
            "  5...\n",
            "  4...\n",
            "  3...\n",
            "  2...\n",
            "  1...\n",
            "  shot!!\n",
            "\n"
          ]
        }
      ]
    },
    {
      "cell_type": "code",
      "source": [
        "print(\"=== 8. 함수 만들기 ===\")\n",
        "\n",
        "def greet(name, age=20): #파라미터 age=20: 초기값 => age 값을 넣지 않을 경우 값#\n",
        "    \"\"\"인사말을 만드는 함수\"\"\"\n",
        "    return f\"안녕하세요! {name}님, {age}세이시네요.\"\n",
        "\n",
        "def calculate_bmi(weight, height):\n",
        "    \"\"\"BMI를 계산하는 함수\"\"\"\n",
        "    bmi = weight / (height/100) ** 2\n",
        "    return round(bmi, 1) #소주점 1자리 반올림#\n",
        "\n",
        "# 함수 사용\n",
        "message1 = greet(\"김하나\") #message1 => 아귀먼트#\n",
        "message2 = greet(\"이둘\", 25)\n",
        "print(message1)\n",
        "print(message2)\n",
        "\n",
        "bmi = calculate_bmi(70, 175)\n",
        "print(f\"BMI: {bmi}\")\n",
        "print()"
      ],
      "metadata": {
        "colab": {
          "base_uri": "https://localhost:8080/"
        },
        "id": "fGLdy5yX7qLc",
        "outputId": "4673906b-6227-4892-999c-0bcbab912245"
      },
      "execution_count": 32,
      "outputs": [
        {
          "output_type": "stream",
          "name": "stdout",
          "text": [
            "=== 8. 함수 만들기 ===\n",
            "안녕하세요! 김하나님, 20세이시네요.\n",
            "안녕하세요! 이둘님, 25세이시네요.\n",
            "BMI: 22.9\n",
            "\n"
          ]
        }
      ]
    },
    {
      "cell_type": "code",
      "source": [
        "print(\"=== 9. 리스트 컴프리헨션 ===\")\n",
        "\n",
        "\n",
        "'''\n",
        "squares = []\n",
        "for x in range(1, 11):\n",
        "    squares.append(x**2)\n",
        "print(f\"1~10의 제곱: {squares}\")\n",
        "'''\n",
        "# 1부터 10까지의 제곱수(3줄을 한 줄로~)\n",
        "squares = [x**2 for x in range(1, 11)]\n",
        "print(f\"1~10의 제곱: {squares}\")\n",
        "\n",
        "\"\"\"\n",
        "numbers = [1, 2, 3, 4, 5, 6, 7, 8, 9, 10]\n",
        "even_numbers = []\n",
        "for x in numbers:\n",
        "    if x % 2 == 0:\n",
        "        even_numbers.append(x)\n",
        "print(f\"짝수만: {even_numbers}\")\n",
        "\"\"\"\n",
        "\n",
        "# 짝수만 필터링(5줄을 2줄로~)\n",
        "numbers = [1, 2, 3, 4, 5, 6, 7, 8, 9, 10]\n",
        "even_numbers = [x for x in numbers if x % 2 == 0]\n",
        "print(f\"짝수만: {even_numbers}\")\n",
        "\n",
        "\n",
        "# 문자열 처리\n",
        "names = [\"kim\", \"lee\", \"park\", \"choi\"]\n",
        "upper_names = [name.upper() for name in names]\n",
        "print(f\"대문자 이름: {upper_names}\")\n",
        "print()\n"
      ],
      "metadata": {
        "id": "Ml0Z4AN_9oYF"
      },
      "execution_count": null,
      "outputs": []
    },
    {
      "cell_type": "code",
      "source": [
        "print(\"=== 10. 예외 처리 ===\")\n",
        "\n",
        "def safe_divide(a, b):\n",
        "    try:\n",
        "        result = a / b\n",
        "        return f\"{a} ÷ {b} = {result}\"\n",
        "    except ZeroDivisionError: #특정된 오류#\n",
        "        return \"오류: 0으로 나눌 수 없습니다!\"\n",
        "    except Exception as e: #지정된 오류 이외의 오류에 대한 예외처리 =>'as e' #\n",
        "        return f\"예상치 못한 오류: {e}\"\n",
        "\n",
        "print(safe_divide(10, 2))\n",
        "print(safe_divide(10, 0))\n",
        "\n",
        "# 숫자 입력 검증\n",
        "def get_number(text):\n",
        "    try:\n",
        "        number = int(text)\n",
        "        return number\n",
        "    except ValueError:\n",
        "        return f\"'{text}'는 숫자가 아닙니다!\"\n",
        "\n",
        "print(get_number(\"123\"))\n",
        "print(get_number(\"abc\"))\n",
        "print()\n"
      ],
      "metadata": {
        "colab": {
          "base_uri": "https://localhost:8080/"
        },
        "id": "RgZ42VcU-p_F",
        "outputId": "40df5241-76ce-44a2-8f6d-a914430dea2d"
      },
      "execution_count": 33,
      "outputs": [
        {
          "output_type": "stream",
          "name": "stdout",
          "text": [
            "=== 10. 예외 처리 ===\n",
            "10 ÷ 2 = 5.0\n",
            "오류: 0으로 나눌 수 없습니다!\n",
            "123\n",
            "'abc'는 숫자가 아닙니다!\n",
            "\n"
          ]
        }
      ]
    },
    {
      "cell_type": "code",
      "source": [
        "print(\"=== 11. 파일 다루기 ===\")\n",
        "\n",
        "# 파일에 쓰기\n",
        "filename = \"sample.txt\"\n",
        "data = [\"첫 번째 줄\", \"두 번째 줄\", \"세 번째 줄\"]\n",
        "\n",
        "try: #실행하라\n",
        "    with open(filename, 'w', encoding='utf-8') as file: #write 'sample.txt'로 쓰기(만들기)\n",
        "        for line in data:\n",
        "            file.write(line + '\\n')\n",
        "    print(f\"'{filename}' 파일에 데이터를 저장했습니다.\")\n",
        "\n",
        "    # 파일 읽기\n",
        "    with open(filename, 'r', encoding='utf-8') as file:\n",
        "        content = file.read()\n",
        "        print(\"파일 내용:\")\n",
        "        print(content)\n",
        "\n",
        "except FileNotFoundError:\n",
        "    print(\"파일을 찾을 수 없습니다.\")\n",
        "except Exception as e:\n",
        "    print(f\"파일 처리 중 오류: {e}\")\n",
        "print()"
      ],
      "metadata": {
        "colab": {
          "base_uri": "https://localhost:8080/"
        },
        "id": "UAzW09az_Q29",
        "outputId": "5bb8c32f-74eb-4f04-a364-1911a6ed54ca"
      },
      "execution_count": 34,
      "outputs": [
        {
          "output_type": "stream",
          "name": "stdout",
          "text": [
            "=== 11. 파일 다루기 ===\n",
            "'sample.txt' 파일에 데이터를 저장했습니다.\n",
            "파일 내용:\n",
            "첫 번째 줄\n",
            "두 번째 줄\n",
            "세 번째 줄\n",
            "\n",
            "\n"
          ]
        }
      ]
    },
    {
      "cell_type": "code",
      "source": [
        "print(\"=== 12. 클래스 만들기 ===\")\n",
        "\n",
        "class Dog:\n",
        "    def __init__(self, name, breed, age):\n",
        "        self.name = name\n",
        "        self.breed = breed\n",
        "        self.age = age\n",
        "        self.energy = 100\n",
        "\n",
        "    def bark(self):\n",
        "        return f\"{self.name}: 멍멍!\"\n",
        "\n",
        "    def play(self):\n",
        "        if self.energy > 20:\n",
        "            self.energy -= 20\n",
        "            return f\"{self.name}가 신나게 놀고 있어요! (에너지: {self.energy})\"\n",
        "        else:\n",
        "            return f\"{self.name}는 너무 피곤해요...\"\n",
        "\n",
        "    def sleep(self):\n",
        "        self.energy = 100\n",
        "        return f\"{self.name}가 잠을 자고 에너지를 회복했어요!\"\n",
        "\n",
        "# 객체 생성 및 사용\n",
        "my_dog = Dog(\"바둑이\", \"골든 리트리버\", 3)\n",
        "print(f\"강아지 이름: {my_dog.name}, 품종: {my_dog.breed}\")\n",
        "print(my_dog.bark())\n",
        "print(my_dog.play())\n",
        "print(my_dog.play())\n",
        "print(my_dog.sleep())\n",
        "print()"
      ],
      "metadata": {
        "colab": {
          "base_uri": "https://localhost:8080/"
        },
        "id": "ABd-4T9lAS4t",
        "outputId": "6c8bdc77-eea3-468c-9674-de98ba6ad5af"
      },
      "execution_count": 36,
      "outputs": [
        {
          "output_type": "stream",
          "name": "stdout",
          "text": [
            "=== 12. 클래스 만들기 ===\n",
            "강아지 이름: 바둑이, 품종: 골든 리트리버\n",
            "바둑이: 멍멍!\n",
            "바둑이가 신나게 놀고 있어요! (에너지: 80)\n",
            "바둑이가 신나게 놀고 있어요! (에너지: 60)\n",
            "바둑이가 잠을 자고 에너지를 회복했어요!\n",
            "\n"
          ]
        }
      ]
    },
    {
      "cell_type": "code",
      "source": [
        "print(\"=== 13. 모듈 사용하기 ===\")\n",
        "\n",
        "import random\n",
        "import datetime\n",
        "\n",
        "# 랜덤 숫자 생성\n",
        "random_number = random.randint(1, 100)\n",
        "print(f\"랜덤 숫자: {random_number}\")\n",
        "\n",
        "# 리스트에서 랜덤 선택\n",
        "colors = [\"빨강\", \"파랑\", \"노랑\", \"초록\", \"보라\"]\n",
        "random_color = random.choice(colors)\n",
        "print(f\"오늘의 추천 색상: {random_color}\")\n",
        "\n",
        "# 현재 날짜와 시간\n",
        "now = datetime.datetime.now()\n",
        "print(f\"현재 시간: {now.strftime('%Y년 %m월 %d일 %H시 %M분')}\")\n",
        "print()"
      ],
      "metadata": {
        "colab": {
          "base_uri": "https://localhost:8080/"
        },
        "id": "As-1GiOHFR1k",
        "outputId": "5b012547-cdc2-4903-f493-3ea3c46f6c0d"
      },
      "execution_count": 35,
      "outputs": [
        {
          "output_type": "stream",
          "name": "stdout",
          "text": [
            "=== 13. 모듈 사용하기 ===\n",
            "랜덤 숫자: 72\n",
            "오늘의 추천 색상: 초록\n",
            "현재 시간: 2025년 07월 22일 07시 42분\n",
            "\n"
          ]
        }
      ]
    },
    {
      "cell_type": "code",
      "source": [
        "print(\"=== 14. 람다와 내장함수 ===\")\n",
        "\n",
        "# 숫자 리스트\n",
        "numbers = [1, 2, 3, 4, 5, 6, 7, 8, 9, 10]\n",
        "\n",
        "# map: 모든 요소에 함수 적용\n",
        "squared = list(map(lambda x: x**2, numbers))\n",
        "print(f\"제곱: {squared}\")\n",
        "\n",
        "# filter: 조건에 맞는 요소만 선택\n",
        "evens = list(filter(lambda x: x % 2 == 0, numbers))\n",
        "print(f\"짝수: {evens}\")\n",
        "\n",
        "# sorted: 정렬\n",
        "students_scores = [(\"김철수\", 85), (\"이영희\", 92), (\"박민수\", 78), (\"정지혜\", 96)]\n",
        "sorted_by_score = sorted(students_scores, key=lambda x: x[1], reverse=True)\n",
        "print(\"성적 순 정렬:\")\n",
        "for name, score in sorted_by_score:\n",
        "    print(f\"  {name}: {score}점\")\n",
        "print()"
      ],
      "metadata": {
        "colab": {
          "base_uri": "https://localhost:8080/"
        },
        "id": "l21DPoLCFSaz",
        "outputId": "cd5e7f83-6132-498a-8aa1-3e25902c0b96"
      },
      "execution_count": 37,
      "outputs": [
        {
          "output_type": "stream",
          "name": "stdout",
          "text": [
            "=== 14. 람다와 내장함수 ===\n",
            "제곱: [1, 4, 9, 16, 25, 36, 49, 64, 81, 100]\n",
            "짝수: [2, 4, 6, 8, 10]\n",
            "성적 순 정렬:\n",
            "  정지혜: 96점\n",
            "  이영희: 92점\n",
            "  김철수: 85점\n",
            "  박민수: 78점\n",
            "\n"
          ]
        }
      ]
    },
    {
      "cell_type": "code",
      "source": [
        "print(\"=== 15. 실전 예제: 간단한 가계부 ===\")\n",
        "\n",
        "class SimpleWallet:\n",
        "    def __init__(self, initial_money=0):\n",
        "        self.balance = initial_money\n",
        "        self.transactions = []\n",
        "\n",
        "    def add_money(self, amount, description=\"입금\"):\n",
        "        self.balance += amount\n",
        "        self.transactions.append({\n",
        "            'type': '입금',\n",
        "            'amount': amount,\n",
        "            'description': description,\n",
        "            'balance': self.balance\n",
        "        })\n",
        "        return f\"{amount}원이 입금되었습니다. 잔액: {self.balance}원\"\n",
        "\n",
        "    def spend_money(self, amount, description=\"지출\"):\n",
        "        if amount > self.balance:\n",
        "            return f\"잔액이 부족합니다! 현재 잔액: {self.balance}원\"\n",
        "\n",
        "        self.balance -= amount\n",
        "        self.transactions.append({\n",
        "            'type': '지출',\n",
        "            'amount': amount,\n",
        "            'description': description,\n",
        "            'balance': self.balance\n",
        "        })\n",
        "        return f\"{amount}원이 지출되었습니다. 잔액: {self.balance}원\"\n",
        "\n",
        "    def get_summary(self):\n",
        "        total_income = sum(t['amount'] for t in self.transactions if t['type'] == '입금')\n",
        "        total_expense = sum(t['amount'] for t in self.transactions if t['type'] == '지출')\n",
        "\n",
        "        return {\n",
        "            'current_balance': self.balance,\n",
        "            'total_income': total_income,\n",
        "            'total_expense': total_expense,\n",
        "            'transaction_count': len(self.transactions)\n",
        "        }\n",
        "\n",
        "    def show_transactions(self):\n",
        "        if not self.transactions:\n",
        "            return \"거래 내역이 없습니다.\"\n",
        "\n",
        "        result = \"=== 거래 내역 ===\\n\"\n",
        "        for i, transaction in enumerate(self.transactions, 1):\n",
        "            result += f\"{i}. {transaction['type']} {transaction['amount']:,}원 \"\n",
        "            result += f\"({transaction['description']}) - 잔액: {transaction['balance']:,}원\\n\"\n",
        "        return result\n",
        "\n",
        "# 가계부 사용 예제\n",
        "wallet = SimpleWallet(50000)  # 초기 금액 5만원\n",
        "print(\"초기 잔액: 50,000원\")\n",
        "\n",
        "print(wallet.add_money(100000, \"월급\"))\n",
        "print(wallet.spend_money(15000, \"점심\"))\n",
        "print(wallet.spend_money(50000, \"쇼핑\"))\n",
        "print(wallet.add_money(20000, \"용돈\"))\n",
        "print(wallet.spend_money(200000, \"여행\"))  # 잔액 부족\n",
        "\n",
        "print(\"\\n\" + wallet.show_transactions())\n",
        "\n",
        "summary = wallet.get_summary()\n",
        "print(f\"=== 가계부 요약 ===\")\n",
        "print(f\"현재 잔액: {summary['current_balance']:,}원\")\n",
        "print(f\"총 수입: {summary['total_income']:,}원\")\n",
        "print(f\"총 지출: {summary['total_expense']:,}원\")\n",
        "print(f\"거래 횟수: {summary['transaction_count']}회\")\n",
        "\n",
        "print(\"\\n🎉 파이썬 핵심 문법 15가지 예제를 모두 완료했습니다!\")\n",
        "print(\"이제 이 예제들을 바탕으로 더 복잡한 프로그램을 만들어보세요!\")"
      ],
      "metadata": {
        "colab": {
          "base_uri": "https://localhost:8080/"
        },
        "id": "HYt9kp0yBIGG",
        "outputId": "e6e9984f-d43a-4d49-a234-3fdd7969f125"
      },
      "execution_count": 38,
      "outputs": [
        {
          "output_type": "stream",
          "name": "stdout",
          "text": [
            "=== 15. 실전 예제: 간단한 가계부 ===\n",
            "초기 잔액: 50,000원\n",
            "100000원이 입금되었습니다. 잔액: 150000원\n",
            "15000원이 지출되었습니다. 잔액: 135000원\n",
            "50000원이 지출되었습니다. 잔액: 85000원\n",
            "20000원이 입금되었습니다. 잔액: 105000원\n",
            "잔액이 부족합니다! 현재 잔액: 105000원\n",
            "\n",
            "=== 거래 내역 ===\n",
            "1. 입금 100,000원 (월급) - 잔액: 150,000원\n",
            "2. 지출 15,000원 (점심) - 잔액: 135,000원\n",
            "3. 지출 50,000원 (쇼핑) - 잔액: 85,000원\n",
            "4. 입금 20,000원 (용돈) - 잔액: 105,000원\n",
            "\n",
            "=== 가계부 요약 ===\n",
            "현재 잔액: 105,000원\n",
            "총 수입: 120,000원\n",
            "총 지출: 65,000원\n",
            "거래 횟수: 4회\n",
            "\n",
            "🎉 파이썬 핵심 문법 15가지 예제를 모두 완료했습니다!\n",
            "이제 이 예제들을 바탕으로 더 복잡한 프로그램을 만들어보세요!\n"
          ]
        }
      ]
    }
  ]
}